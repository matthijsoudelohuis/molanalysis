{
 "cells": [
  {
   "cell_type": "code",
   "execution_count": 27,
   "metadata": {},
   "outputs": [],
   "source": [
    "from scipy import io\n",
    "import os\n",
    "import numpy as np\n",
    "from scipy.sparse.linalg import eigsh\n",
    "import matplotlib.pyplot as plt\n",
    "%matplotlib inline\n",
    "import utils_cvPCA\n",
    "\n",
    "os.chdir('e:\\\\Python\\\\molanalysis\\\\cvPCA')\n",
    "# dat = io.loadmat('/media/carsen/DATA2/grive/10krecordings/imgResp/natimg2800_M170714_MP032_2017-09-14.mat')\n",
    "dat = io.loadmat('natimg2800_M170714_MP032_2017-09-14.mat')\n",
    "# dat = io.loadmat('/cvPCA/natimg2800_M170714_MP032_2017-09-14.mat')\n",
    "\n",
    "resp = dat['stim'][0]['resp'][0] # stim x neurons\n",
    "spont = dat['stim'][0]['spont'][0] # timepts x neurons\n",
    "istim = (dat['stim'][0]['istim'][0]).astype(np.int32) # stim ids \n",
    "istim -= 1 # get out of MATLAB convention\n",
    "istim = istim[:,0]\n",
    "nimg = istim.max() # these are blank stims (exclude them)\n",
    "resp = resp[istim<nimg, :]\n",
    "istim = istim[istim<nimg]\n",
    "\n",
    "# subtract spont (32D)\n",
    "mu = spont.mean(axis=0)\n",
    "sd = spont.std(axis=0) + 1e-6\n",
    "resp = (resp - mu) / sd\n",
    "spont = (spont - mu) / sd\n",
    "sv,u = eigsh(spont.T @ spont, k=32)\n",
    "resp = resp - (resp @ u) @ u.T\n",
    "\n",
    "# mean center each neuron\n",
    "resp -= resp.mean(axis=0)"
   ]
  },
  {
   "cell_type": "code",
   "execution_count": 28,
   "metadata": {},
   "outputs": [
    {
     "data": {
      "text/plain": [
       "(6645, 9476)"
      ]
     },
     "execution_count": 28,
     "metadata": {},
     "output_type": "execute_result"
    }
   ],
   "source": [
    "resp.shape\n",
    "# # spont.shape\n",
    "# istim.shape\n",
    "# print(np.unique(istim))\n",
    "# plt.hist(istim,bins=2800)\n",
    "# nimg\n",
    "# os.getcwd()"
   ]
  },
  {
   "cell_type": "code",
   "execution_count": 5,
   "metadata": {},
   "outputs": [
    {
     "name": "stdout",
     "output_type": "stream",
     "text": [
      "['IM'] dataset: 1 mice, 1 sessions, 5600 trials\n",
      "Number of neurons in PM: 903\n",
      "Number of neurons in V1: 1682\n",
      "Total number of neurons: 2585\n"
     ]
    }
   ],
   "source": [
    "import pandas as pd\n",
    "import scipy.stats as st\n",
    "os.chdir('e:\\\\Python\\\\molanalysis\\\\')\n",
    "from loaddata.session_info import filter_sessions,load_sessions\n",
    "from utils.plotting_style import * #get all the fixed color schemes\n",
    "\n",
    "from utils.imagelib import load_natural_images #\n",
    "from utils.corr_lib import mean_resp_image\n",
    "\n",
    "#################################################\n",
    "# session_list        = np.array([['LPE09665','2023_03_15']])\n",
    "session_list        = np.array([['LPE11086','2023_12_16']])\n",
    "sessions,nSessions            = load_sessions(protocol = 'IM',session_list=session_list,load_behaviordata=True, \n",
    "                                    load_calciumdata=True, load_videodata=True, calciumversion='deconv')\n",
    "\n",
    "#%% Load sessions lazy: \n",
    "# sessions,nSessions   = load_sessions(protocol = 'IM',session_list=session_list)\n",
    "\n",
    "#%%   Load proper data and compute average trial responses:                      \n",
    "for ises in range(nSessions):    # iterate over sessions\n",
    "    # sessions[ises].load_respmat(load_behaviordata=True, load_calciumdata=True,load_videodata=True,calciumversion='deconv')\n",
    "    sessions[ises].load_respmat(calciumversion='deconv',keepraw=True)"
   ]
  },
  {
   "cell_type": "code",
   "execution_count": 23,
   "metadata": {},
   "outputs": [],
   "source": [
    "resp = sessions[0].respmat.T\n",
    "np.shape(resp)\n",
    "istim = np.array(sessions[0].trialdata['ImageNumber'])\n",
    "istim\n",
    "nimg = istim.max() + 1 # these are blank stims (exclude them)\n",
    "nimg\n",
    "\n",
    "# mean center each neuron\n",
    "resp -= resp.mean(axis=0)\n",
    "resp = resp / (resp.std(axis=0) + 1e-6)\n"
   ]
  },
  {
   "cell_type": "code",
   "execution_count": 29,
   "metadata": {},
   "outputs": [
    {
     "name": "stdout",
     "output_type": "stream",
     "text": [
      "fraction of signal variance: 0.165\n"
     ]
    }
   ],
   "source": [
    "### sanity check - decent signal variance ?\n",
    "# split stimuli into two repeats\n",
    "NN = resp.shape[1]\n",
    "sresp = np.zeros((2, nimg, NN), np.float64)\n",
    "inan = np.zeros((nimg,)).astype(bool)\n",
    "for n in range(nimg):\n",
    "    ist = (istim==n).nonzero()[0]\n",
    "    i1 = ist[:int(ist.size/2)]\n",
    "    i2 = ist[int(ist.size/2):]\n",
    "    # check if two repeats of stim\n",
    "    if np.logical_or(i2.size < 1, i1.size < 1):\n",
    "        inan[n] = 1\n",
    "    else:\n",
    "        sresp[0, n, :] = resp[i1, :].mean(axis=0)\n",
    "        sresp[1, n, :] = resp[i2, :].mean(axis=0)\n",
    "        \n",
    "# remove image responses without two repeats\n",
    "sresp = sresp[:,~inan,:]\n",
    "    \n",
    "snorm = sresp - sresp.mean(axis=1)[:,np.newaxis,:]\n",
    "snorm = snorm / (snorm.std(axis=1)[:,np.newaxis,:] + 1e-6)\n",
    "\n",
    "cc = (snorm[0].T @ snorm[1]) / sresp.shape[1]\n",
    "\n",
    "print('fraction of signal variance: %2.3f'%np.diag(cc).mean())"
   ]
  },
  {
   "cell_type": "code",
   "execution_count": 30,
   "metadata": {},
   "outputs": [
    {
     "data": {
      "text/plain": [
       "(2800, 2800)"
      ]
     },
     "execution_count": 30,
     "metadata": {},
     "output_type": "execute_result"
    }
   ],
   "source": [
    "sresp.shape\n",
    "cc = sresp[0] @ sresp[1].T\n",
    "np.shape(cc)"
   ]
  },
  {
   "cell_type": "code",
   "execution_count": 31,
   "metadata": {},
   "outputs": [
    {
     "name": "stdout",
     "output_type": "stream",
     "text": [
      "decoding accuracy: 0.412\n"
     ]
    }
   ],
   "source": [
    "### sanity check - decent decoding ?\n",
    "# 1 nearest neighbor decoder    \n",
    "# (mean already subtracted)\n",
    "cc = sresp[0] @ sresp[1].T\n",
    "cc /= (sresp[0]**2).sum()\n",
    "cc /= (sresp[1]**2).sum()\n",
    "nstims = sresp.shape[1]\n",
    "print('decoding accuracy: %2.3f'%(cc.argmax(axis=1)==np.arange(0,nstims,1,int)).mean())"
   ]
  },
  {
   "cell_type": "code",
   "execution_count": 34,
   "metadata": {},
   "outputs": [],
   "source": [
    "from utils.shuffle_lib import my_shuffle\n",
    "\n",
    "sresp[0,:,:] = my_shuffle(sresp[0,:,:],method='random')\n",
    "sresp[1,:,:] = my_shuffle(sresp[1,:,:],method='random')\n"
   ]
  },
  {
   "cell_type": "code",
   "execution_count": 35,
   "metadata": {},
   "outputs": [
    {
     "name": "stdout",
     "output_type": "stream",
     "text": [
      "powerlaw, alpha=0.828\n"
     ]
    },
    {
     "data": {
      "image/png": "[encoded data removed]",
      "text/plain": [
       "<Figure size 640x480 with 1 Axes>"
      ]
     },
     "metadata": {},
     "output_type": "display_data"
    }
   ],
   "source": [
    "### sanity check - is the powerlaw close to 1 ?\n",
    "# powerlaw\n",
    "\n",
    "# compute cvPCA\n",
    "ss = utils_cvPCA.shuff_cvPCA(sresp)\n",
    "\n",
    "# compute powerlaw of averaged shuffles\n",
    "ss = ss.mean(axis=0)\n",
    "alpha,ypred = utils_cvPCA.get_powerlaw(ss/ss.sum(), np.arange(11,5e2).astype(int))  \n",
    "print('powerlaw, alpha=%2.3f'%alpha)\n",
    "\n",
    "plt.loglog(np.arange(0,ss.size)+1, ss/ss.sum())\n",
    "plt.loglog(np.arange(0,ss.size)+1, ypred, c='k')\n",
    "plt.show()\n"
   ]
  },
  {
   "cell_type": "code",
   "execution_count": null,
   "metadata": {},
   "outputs": [],
   "source": []
  }
 ],
 "metadata": {
  "kernelspec": {
   "display_name": "molanalysis",
   "language": "python",
   "name": "python3"
  },
  "language_info": {
   "codemirror_mode": {
    "name": "ipython",
    "version": 3
   },
   "file_extension": ".py",
   "mimetype": "text/x-python",
   "name": "python",
   "nbconvert_exporter": "python",
   "pygments_lexer": "ipython3",
   "version": "3.8.16"
  }
 },
 "nbformat": 4,
 "nbformat_minor": 2
}
